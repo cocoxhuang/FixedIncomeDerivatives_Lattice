{
 "cells": [
  {
   "cell_type": "markdown",
   "metadata": {},
   "source": [
    "Please start by building an $n = 10$-period binomial model for the short-rate, $r_{i,j}$. The lattice parameters are: $r_{0,0}​= 5\\%$, $u=1.1, d=0.9$ and $q=1−q=1/2$."
   ]
  },
  {
   "cell_type": "code",
   "execution_count": 1,
   "metadata": {},
   "outputs": [],
   "source": [
    "import util\n",
    "\n",
    "r0 = 0.05\n",
    "u = 1.1\n",
    "d = 0.9\n",
    "n = 10\n",
    "q = 0.5                         # risk neutral probability\n",
    "\n",
    "rates_model = util.ratesBinomial(q = q, r0 = r0, u = u, d = d, n = n)\n",
    "rates_model.generate_rates_paths()\n",
    "rates_model.generate_yield_curve()"
   ]
  },
  {
   "cell_type": "markdown",
   "metadata": {},
   "source": [
    "Compute the price of a zero-coupon bond (ZCB) that matures at time $t=10$ and that has face value 100."
   ]
  },
  {
   "cell_type": "code",
   "execution_count": 2,
   "metadata": {},
   "outputs": [
    {
     "data": {
      "text/plain": [
       "61.621958117541546"
      ]
     },
     "execution_count": 2,
     "metadata": {},
     "output_type": "execute_result"
    }
   ],
   "source": [
    "# Bond pricing\n",
    "\n",
    "T = 10                      # maturity\n",
    "coupon_rate = 0.0           # coupon rate\n",
    "faceValue = 100\n",
    "bond = util.bondModel(rates_model, T = T, coupon_rate = coupon_rate, q = q, F = faceValue)\n",
    "bond.pricing()"
   ]
  },
  {
   "cell_type": "markdown",
   "metadata": {},
   "source": [
    "Please use the same binomial model as the previous question. \n",
    "Compute the price of a forward contract on the same ZCB of the previous question where the forward contract matures at time $t=4$."
   ]
  },
  {
   "cell_type": "code",
   "execution_count": 3,
   "metadata": {},
   "outputs": [
    {
     "data": {
      "text/plain": [
       "74.88484493844841"
      ]
     },
     "execution_count": 3,
     "metadata": {},
     "output_type": "execute_result"
    }
   ],
   "source": [
    "# bond forward pricing\n",
    "\n",
    "T = 10                      # maturity\n",
    "coupon_rate = 0.0           # coupon rate\n",
    "Forward_T = 4               # forward maturity date  \n",
    "faceValue = 100\n",
    "bondForward = util.bondForwardModel(rates_model, bond_T = T, coupon_rate = coupon_rate, q = q, F = faceValue, Forward_T = Forward_T)\n",
    "bondForward.pricing()"
   ]
  },
  {
   "cell_type": "markdown",
   "metadata": {},
   "source": [
    "Please use the same binomial model as the previous question. Compute the initial price of a futures contract on the same ZCB of the previous two questions. The futures contract has an expiration of $t=4$."
   ]
  },
  {
   "cell_type": "code",
   "execution_count": 4,
   "metadata": {},
   "outputs": [
    {
     "data": {
      "text/plain": [
       "74.82458063139569"
      ]
     },
     "execution_count": 4,
     "metadata": {},
     "output_type": "execute_result"
    }
   ],
   "source": [
    "# bond futures pricing\n",
    "\n",
    "T = 10                      # maturity\n",
    "coupon_rate = 0.0           # coupon rate\n",
    "Futures_T = 4               # futures maturity date \n",
    "bondFutures = util.bondFuturesModel(rates_model, bond_T = T, coupon_rate = coupon_rate, q = q, F = 100, Futures_T = Futures_T)\n",
    "bondFutures.pricing()"
   ]
  },
  {
   "cell_type": "markdown",
   "metadata": {},
   "source": [
    "Please use the same binomial model as the previous question. Compute the price of an American call option on the same ZCB of the previous three questions. The option has expiration $t=6$ and strike = $80$."
   ]
  },
  {
   "cell_type": "code",
   "execution_count": 5,
   "metadata": {},
   "outputs": [
    {
     "data": {
      "text/plain": [
       "2.3572151638290477"
      ]
     },
     "execution_count": 5,
     "metadata": {},
     "output_type": "execute_result"
    }
   ],
   "source": [
    "# bond options pricing\n",
    "\n",
    "bond_T = 10                    # bond maturity \n",
    "coupon_rate = 0.0\n",
    "faceValue = 100\n",
    "\n",
    "Options_T = 6                  # options maturity\n",
    "Options_K = 80                 # options strike price\n",
    "CallOrPut = 'call'             # choices: {'call', 'put'}\n",
    "if_american = False            # if this is an american option\n",
    "bondOptions = util.bondOptionsModel(rates_model, bond_T = bond_T, coupon_rate = coupon_rate, q = q, F = faceValue, \n",
    "                                        Options_T = Options_T, Options_K = Options_K, CallOrPut = CallOrPut,\n",
    "                                        if_american = if_american)\n",
    "bondOptions.pricing()"
   ]
  },
  {
   "cell_type": "code",
   "execution_count": 6,
   "metadata": {},
   "outputs": [
    {
     "data": {
      "text/plain": [
       "2.2136374727760324"
      ]
     },
     "execution_count": 6,
     "metadata": {},
     "output_type": "execute_result"
    }
   ],
   "source": [
    "# caplets/floorlets pricing\n",
    "\n",
    "faceValue = 100               # notional value\n",
    "\n",
    "Options_T = 5                 # caplets/floorlets maturity\n",
    "Options_K = 0.02              # caplets/floorlets strike rates\n",
    "CapletOrFloorlet = 'caplet'   # choices: {'caplet', 'floorlet'}\n",
    "if_american = False\n",
    "capletOptions = util.CapletFloorletModel(rates_model, q = q, F = faceValue, \n",
    "                                        Options_T = Options_T, Options_K = Options_K, CapletOrFloorlet = CapletOrFloorlet,\n",
    "                                        if_american = if_american)\n",
    "capletOptions.pricing()"
   ]
  },
  {
   "cell_type": "markdown",
   "metadata": {},
   "source": [
    "Compute the initial value of a forward-starting swap that begins at $t=1$, with maturity $t = 10$ and a fixed rate of $4.5\\%$.\n",
    "\n",
    "(The first payment then takes place at t = 2 and the final payment takes place at t = 11 as we are assuming, as usual, that payments take place in arrears.) You should assume a swap notional of 1 million and assume that you receive floating and pay fixed.)"
   ]
  },
  {
   "cell_type": "code",
   "execution_count": 7,
   "metadata": {},
   "outputs": [
    {
     "data": {
      "text/plain": [
       "33374.24206216377"
      ]
     },
     "execution_count": 7,
     "metadata": {},
     "output_type": "execute_result"
    }
   ],
   "source": [
    "# swaps pricing\n",
    "\n",
    "faceValue = 1000000           # notional value\n",
    "\n",
    "Swap_T0 = 1                   # start time of the swap\n",
    "Swap_T = 10                   # maturity time of the swap\n",
    "Swap_K = 0.045                # fixed leg of the swap\n",
    "Swap = util.SwapModel(rates_model, q = q, F = faceValue, Swap_T0 = Swap_T0, Swap_T = Swap_T, Swap_K = Swap_K)\n",
    "Swap.pricing()"
   ]
  },
  {
   "cell_type": "markdown",
   "metadata": {},
   "source": [
    "Compute the initial price of a swaption that matures at time $t = 5$ and has a strike of 0. The underlying swap is the same swap as described in the previous question with a notional of 1 million."
   ]
  },
  {
   "cell_type": "code",
   "execution_count": 8,
   "metadata": {},
   "outputs": [
    {
     "data": {
      "text/plain": [
       "26311.079490192264"
      ]
     },
     "execution_count": 8,
     "metadata": {},
     "output_type": "execute_result"
    }
   ],
   "source": [
    "faceValue = 1000000           # notional value\n",
    "\n",
    "Swap_T0 = 1                   # start time of the swap\n",
    "Swap_T = 10                   # maturity time of the swap\n",
    "Swap_K = 0.045                # fixed leg of the swap\n",
    "\n",
    "Options_T = 5                 # maturity of the swaption\n",
    "Options_K = 0.0               # strike rate of the swaption\n",
    "CallOrPut = 'call'            # choices: {'call', 'put'}\n",
    "if_american = False \n",
    "\n",
    "Swaption = util.SwaptionModel(rates_model, q = q, F = faceValue, Swap_T = Swap_T, Swap_K = Swap_K,\n",
    "                 Options_T = Options_T, Options_K = Options_K, CallOrPut = 'call', if_american = False)\n",
    "Swaption.pricing()"
   ]
  }
 ],
 "metadata": {
  "kernelspec": {
   "display_name": "Python 3",
   "language": "python",
   "name": "python3"
  },
  "language_info": {
   "codemirror_mode": {
    "name": "ipython",
    "version": 3
   },
   "file_extension": ".py",
   "mimetype": "text/x-python",
   "name": "python",
   "nbconvert_exporter": "python",
   "pygments_lexer": "ipython3",
   "version": "3.10.7"
  }
 },
 "nbformat": 4,
 "nbformat_minor": 2
}
